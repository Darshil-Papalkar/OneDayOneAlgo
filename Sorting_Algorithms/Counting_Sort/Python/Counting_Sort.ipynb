{
  "nbformat": 4,
  "nbformat_minor": 0,
  "metadata": {
    "colab": {
      "name": "counting_sort",
      "provenance": [],
      "collapsed_sections": []
    },
    "kernelspec": {
      "name": "python3",
      "display_name": "Python 3"
    }
  },
  "cells": [
    {
      "cell_type": "code",
      "metadata": {
        "id": "7qJC2cujsWhC",
        "colab_type": "code",
        "outputId": "f022572d-8c00-43be-9e91-a91bb09a4c1e",
        "colab": {
          "base_uri": "https://localhost:8080/",
          "height": 37
        }
      },
      "source": [
        "def countingSort(array):\n",
        "    size=len(array)\n",
        "    output=[0]*size\n",
        "    count=[0]*10\n",
        "    for i in range(0,size):\n",
        "        count[array[i]]+=1\n",
        "    for i in range(1,10):\n",
        "        count[i]+=count[i-1]\n",
        "    i=size-1\n",
        "    while i>=0:\n",
        "        output[count[array[i]]-1]=array[i]\n",
        "        count[array[i]]-=1\n",
        "        i-=1\n",
        "    for i in range(0,size):\n",
        "        array[i]=output[i]\n",
        "data=[4,3,2,4,3,4,8,1]\n",
        "countingSort(data)\n",
        "print(\"Sorted array is :\",data)"
      ],
      "execution_count": 10,
      "outputs": [
        {
          "output_type": "stream",
          "text": [
            "Sorted array is : [1, 2, 3, 3, 4, 4, 4, 8]\n"
          ],
          "name": "stdout"
        }
      ]
    }
  ]
}