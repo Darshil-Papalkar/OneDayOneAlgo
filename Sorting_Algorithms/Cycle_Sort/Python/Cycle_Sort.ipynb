{
 "cells": [
  {
   "cell_type": "code",
   "execution_count": 48,
   "metadata": {},
   "outputs": [],
   "source": [
    "def cycleSort(array): \n",
    "    \n",
    "  for cycleStart in range(0, len(array) - 1):  # Looping through the array to find the correct postition\n",
    "    item = array[cycleStart]  \n",
    "    pos = cycleStart \n",
    "    \n",
    "    for i in range(cycleStart + 1, len(array)): \n",
    "      if array[i] < item: \n",
    "        pos += 1\n",
    "      \n",
    "    if pos == cycleStart:                   # Ignore if item is same item is found. \n",
    "      continue\n",
    "      \n",
    "    while item == array[pos]:               # Insert the item there or right after any duplicates. \n",
    "      pos += 1\n",
    "    array[pos], item = item, array[pos] \n",
    "      \n",
    "    while pos != cycleStart:               # Rotate the rest of the cycle. \n",
    "        \n",
    "      pos = cycleStart                     # Position to put the item\n",
    "      for i in range(cycleStart + 1, len(array)): \n",
    "        if array[i] < item: \n",
    "          pos += 1\n",
    "        \n",
    "      while item == array[pos]:            # Put the item there or right after any duplicates. \n",
    "        pos += 1\n",
    "      array[pos], item = item, array[pos] "
   ]
  },
  {
   "cell_type": "code",
   "execution_count": 49,
   "metadata": {},
   "outputs": [],
   "source": [
    "li = [1, 34, 55, 22, 24, 78, 96, 8, 81, 64, 77, 65]"
   ]
  },
  {
   "cell_type": "code",
   "execution_count": 50,
   "metadata": {},
   "outputs": [],
   "source": [
    "cycleSort(li)"
   ]
  },
  {
   "cell_type": "code",
   "execution_count": 51,
   "metadata": {},
   "outputs": [
    {
     "name": "stdout",
     "output_type": "stream",
     "text": [
      "After sort : \n",
      "1 8 22 24 34 55 64 65 77 78 81 96 "
     ]
    }
   ],
   "source": [
    "print(\"After sort : \")\n",
    "for _ in range(0, len(li)):\n",
    "    print(li[_], end = \" \")"
   ]
  }
 ],
 "metadata": {
  "kernelspec": {
   "display_name": "Python 3",
   "language": "python",
   "name": "python3"
  },
  "language_info": {
   "codemirror_mode": {
    "name": "ipython",
    "version": 3
   },
   "file_extension": ".py",
   "mimetype": "text/x-python",
   "name": "python",
   "nbconvert_exporter": "python",
   "pygments_lexer": "ipython3",
   "version": "3.7.6"
  }
 },
 "nbformat": 4,
 "nbformat_minor": 4
}
